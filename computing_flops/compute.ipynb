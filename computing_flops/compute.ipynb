{
 "cells": [
  {
   "cell_type": "code",
   "execution_count": 1,
   "metadata": {
    "collapsed": true
   },
   "outputs": [],
   "source": [
    "import torch\n",
    "import torch.nn as nn\n",
    "from torch.autograd import Variable\n",
    "\n",
    "import sys\n",
    "sys.path.append('../resnet/')\n",
    "sys.path.append('../densenet/')\n",
    "sys.path.append('../squeezenet/')\n",
    "\n",
    "from get_resnet18 import get_model as get_resnet\n",
    "from get_densenet121 import get_model as get_densenet\n",
    "from get_squeezenet import get_model as get_squeezenet"
   ]
  },
  {
   "cell_type": "code",
   "execution_count": 2,
   "metadata": {},
   "outputs": [],
   "source": [
    "resnet, _, _ = get_resnet()\n",
    "densenet, _, _ = get_densenet()\n",
    "squeezenet, _, _ = get_squeezenet()"
   ]
  },
  {
   "cell_type": "code",
   "execution_count": 3,
   "metadata": {
    "collapsed": true
   },
   "outputs": [],
   "source": [
    "def count_flops(model, input_image_size):\n",
    "    \n",
    "    # flops counts from each layer\n",
    "    counts = []\n",
    "    \n",
    "    # loop over all model parts\n",
    "    for m in model.modules():\n",
    "        if isinstance(m, nn.Conv2d):\n",
    "            def hook(module, input):\n",
    "                factor = 2*module.in_channels*module.out_channels\n",
    "                factor *= module.kernel_size[0]*module.kernel_size[1]\n",
    "                factor //= module.stride[0]*module.stride[1]\n",
    "                counts.append(\n",
    "                    factor*input[0].data.shape[2]*input[0].data.shape[3]\n",
    "                )\n",
    "            m.register_forward_pre_hook(hook)\n",
    "        elif isinstance(m, nn.Linear):\n",
    "            counts += [\n",
    "                2*m.in_features*m.out_features\n",
    "            ]\n",
    "        \n",
    "    noise_image = torch.rand(\n",
    "        1, 3, input_image_size, input_image_size\n",
    "    )\n",
    "    # one forward pass\n",
    "    _ = model(Variable(noise_image.cuda(), volatile=True))\n",
    "    return sum(counts)"
   ]
  },
  {
   "cell_type": "code",
   "execution_count": 4,
   "metadata": {
    "collapsed": true
   },
   "outputs": [],
   "source": [
    "input_image_size = 299"
   ]
  },
  {
   "cell_type": "code",
   "execution_count": 5,
   "metadata": {},
   "outputs": [
    {
     "data": {
      "text/plain": [
       "6753949536"
      ]
     },
     "execution_count": 5,
     "metadata": {},
     "output_type": "execute_result"
    }
   ],
   "source": [
    "count_flops(resnet, input_image_size)"
   ]
  },
  {
   "cell_type": "code",
   "execution_count": 6,
   "metadata": {},
   "outputs": [
    {
     "data": {
      "text/plain": [
       "9871021920"
      ]
     },
     "execution_count": 6,
     "metadata": {},
     "output_type": "execute_result"
    }
   ],
   "source": [
    "count_flops(densenet, input_image_size)"
   ]
  },
  {
   "cell_type": "code",
   "execution_count": 7,
   "metadata": {},
   "outputs": [
    {
     "data": {
      "text/plain": [
       "1066901600"
      ]
     },
     "execution_count": 7,
     "metadata": {},
     "output_type": "execute_result"
    }
   ],
   "source": [
    "count_flops(squeezenet, input_image_size)"
   ]
  }
 ],
 "metadata": {
  "kernelspec": {
   "display_name": "Python 3",
   "language": "python",
   "name": "python3"
  },
  "language_info": {
   "codemirror_mode": {
    "name": "ipython",
    "version": 3
   },
   "file_extension": ".py",
   "mimetype": "text/x-python",
   "name": "python",
   "nbconvert_exporter": "python",
   "pygments_lexer": "ipython3",
   "version": "3.6.1"
  }
 },
 "nbformat": 4,
 "nbformat_minor": 2
}
