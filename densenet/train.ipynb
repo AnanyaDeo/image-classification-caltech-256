{
 "cells": [
  {
   "cell_type": "code",
   "execution_count": 1,
   "metadata": {
    "collapsed": true
   },
   "outputs": [],
   "source": [
    "%load_ext autoreload\n",
    "%autoreload 2"
   ]
  },
  {
   "cell_type": "code",
   "execution_count": 2,
   "metadata": {},
   "outputs": [],
   "source": [
    "import numpy as np\n",
    "import numexpr as ne\n",
    "import sys\n",
    "from tqdm import tqdm\n",
    "from sklearn.metrics import accuracy_score, log_loss\n",
    "\n",
    "import torch\n",
    "import torch.nn.functional as F\n",
    "from torch.utils.data import DataLoader\n",
    "from torch.autograd import Variable\n",
    "from torchvision.datasets import ImageFolder\n",
    "import torchvision.transforms as transforms\n",
    "\n",
    "import matplotlib.pyplot as plt\n",
    "%matplotlib inline\n",
    "\n",
    "sys.path.append('../training_utils/')\n",
    "from diagnostic_tools import top_k_accuracy, per_class_accuracy, count_params, entropy, model_calibration\n",
    "from train_utils import train"
   ]
  },
  {
   "cell_type": "code",
   "execution_count": 3,
   "metadata": {},
   "outputs": [
    {
     "data": {
      "text/plain": [
       "True"
      ]
     },
     "execution_count": 3,
     "metadata": {},
     "output_type": "execute_result"
    }
   ],
   "source": [
    "import torch.cuda\n",
    "torch.cuda.is_available()"
   ]
  },
  {
   "cell_type": "code",
   "execution_count": 4,
   "metadata": {
    "collapsed": true
   },
   "outputs": [],
   "source": [
    "torch.backends.cudnn.benchmark = True"
   ]
  },
  {
   "cell_type": "markdown",
   "metadata": {},
   "source": [
    "# Create iterators"
   ]
  },
  {
   "cell_type": "code",
   "execution_count": 5,
   "metadata": {
    "collapsed": true
   },
   "outputs": [],
   "source": [
    "data_dir = '/home/ubuntu/data/'\n",
    "batch_size = 32"
   ]
  },
  {
   "cell_type": "code",
   "execution_count": 6,
   "metadata": {},
   "outputs": [
    {
     "data": {
      "text/plain": [
       "25600"
      ]
     },
     "execution_count": 6,
     "metadata": {},
     "output_type": "execute_result"
    }
   ],
   "source": [
    "transform = transforms.Compose([\n",
    "    transforms.ToTensor(),\n",
    "    transforms.Normalize(\n",
    "        mean=[0.485, 0.456, 0.406],\n",
    "        std=[0.229, 0.224, 0.225]\n",
    "    ),\n",
    "])\n",
    "\n",
    "train_folder = ImageFolder(data_dir + 'train', transform)\n",
    "val_folder = ImageFolder(data_dir + 'val', transform)\n",
    "\n",
    "train_iterator = DataLoader(\n",
    "    train_folder, batch_size=batch_size,\n",
    "    shuffle=True, pin_memory=True\n",
    ")\n",
    "\n",
    "val_iterator = DataLoader(\n",
    "    val_folder, batch_size=64,\n",
    "    shuffle=True, pin_memory=True\n",
    ")\n",
    "\n",
    "train_size = len(train_folder.imgs)\n",
    "train_size"
   ]
  },
  {
   "cell_type": "markdown",
   "metadata": {},
   "source": [
    "# Model"
   ]
  },
  {
   "cell_type": "code",
   "execution_count": 7,
   "metadata": {
    "collapsed": true
   },
   "outputs": [],
   "source": [
    "from model_densenet import make_model"
   ]
  },
  {
   "cell_type": "code",
   "execution_count": 25,
   "metadata": {
    "scrolled": true
   },
   "outputs": [],
   "source": [
    "model, criterion, optimizer = make_model()"
   ]
  },
  {
   "cell_type": "code",
   "execution_count": 26,
   "metadata": {},
   "outputs": [
    {
     "data": {
      "text/plain": [
       "7216256"
      ]
     },
     "execution_count": 26,
     "metadata": {},
     "output_type": "execute_result"
    }
   ],
   "source": [
    "count_params(model)"
   ]
  },
  {
   "cell_type": "markdown",
   "metadata": {},
   "source": [
    "# Train"
   ]
  },
  {
   "cell_type": "code",
   "execution_count": 27,
   "metadata": {},
   "outputs": [
    {
     "data": {
      "text/plain": [
       "800"
      ]
     },
     "execution_count": 27,
     "metadata": {},
     "output_type": "execute_result"
    }
   ],
   "source": [
    "n_epochs = 2\n",
    "n_batches = int(np.ceil(train_size/batch_size))\n",
    "M = 1\n",
    "T = n_batches*n_epochs\n",
    "initial = 0.01\n",
    "n_batches"
   ]
  },
  {
   "cell_type": "code",
   "execution_count": 28,
   "metadata": {
    "collapsed": true
   },
   "outputs": [],
   "source": [
    "def lr_scheduler(optimizer, step):\n",
    "    \n",
    "    global initial\n",
    "    decay = np.cos(np.pi*((step - 1) % (T // M))/(T // M)) + 1.0\n",
    "    \n",
    "    for param_group in optimizer.param_groups:\n",
    "        param_group['lr'] = initial*decay/2.0\n",
    "    \n",
    "    if (step - 1) % (T // M) == 0 and step != 1:\n",
    "        # initial *= 0.1\n",
    "        print('lr is reset:', initial)\n",
    "        \n",
    "    return optimizer"
   ]
  },
  {
   "cell_type": "code",
   "execution_count": 29,
   "metadata": {
    "scrolled": true
   },
   "outputs": [
    {
     "name": "stdout",
     "output_type": "stream",
     "text": [
      "0.50  2.422 1.176  0.568 0.756  0.749 0.912  149.178\n",
      "1.00  1.066 0.901  0.806 0.816  0.943 0.943  149.095\n",
      "1.50  0.801 0.864  0.877 0.831  0.971 0.954  149.211\n",
      "2.00  0.764 0.845  0.895 0.831  0.977 0.951  149.287\n",
      "saving\n",
      "CPU times: user 31min 57s, sys: 2min, total: 33min 58s\n",
      "Wall time: 9min 56s\n"
     ]
    }
   ],
   "source": [
    "%%time\n",
    "all_losses, all_models = train(\n",
    "    model, criterion, optimizer, \n",
    "    train_iterator, n_epochs, n_batches, \n",
    "    val_iterator, validation_step=400, n_validation_batches=24, \n",
    "    saving_step=(T // M), lr_scheduler=lr_scheduler\n",
    ")"
   ]
  },
  {
   "cell_type": "markdown",
   "metadata": {},
   "source": [
    "# Loss/epoch"
   ]
  },
  {
   "cell_type": "code",
   "execution_count": 30,
   "metadata": {},
   "outputs": [
    {
     "data": {
      "image/png": "[encoded data removed]",
      "text/plain": [
       "<matplotlib.figure.Figure at 0x7f61b415c898>"
      ]
     },
     "metadata": {},
     "output_type": "display_data"
    }
   ],
   "source": [
    "epochs = [x[0] for x in all_losses]\n",
    "plt.plot(epochs, [x[1] for x in all_losses], label='train');\n",
    "plt.plot(epochs, [x[2] for x in all_losses], label='test');\n",
    "plt.legend();\n",
    "plt.xlabel('epoch');\n",
    "plt.ylabel('loss');"
   ]
  },
  {
   "cell_type": "code",
   "execution_count": 31,
   "metadata": {},
   "outputs": [
    {
     "data": {
      "image/png": "[encoded data removed]",
      "text/plain": [
       "<matplotlib.figure.Figure at 0x7f61b415c518>"
      ]
     },
     "metadata": {},
     "output_type": "display_data"
    }
   ],
   "source": [
    "plt.plot(epochs, [x[3] for x in all_losses], label='train');\n",
    "plt.plot(epochs, [x[4] for x in all_losses], label='test');\n",
    "plt.legend();\n",
    "plt.xlabel('epoch');\n",
    "plt.ylabel('accuracy');"
   ]
  },
  {
   "cell_type": "code",
   "execution_count": 32,
   "metadata": {},
   "outputs": [
    {
     "data": {
      "image/png": "[encoded data removed]",
      "text/plain": [
       "<matplotlib.figure.Figure at 0x7f61b415c198>"
      ]
     },
     "metadata": {},
     "output_type": "display_data"
    }
   ],
   "source": [
    "plt.plot(epochs, [x[5] for x in all_losses], label='train');\n",
    "plt.plot(epochs, [x[6] for x in all_losses], label='test');\n",
    "plt.legend();\n",
    "plt.xlabel('epoch');\n",
    "plt.ylabel('top5_accuracy');"
   ]
  },
  {
   "cell_type": "markdown",
   "metadata": {},
   "source": [
    "# Predict val. set"
   ]
  },
  {
   "cell_type": "code",
   "execution_count": 42,
   "metadata": {
    "collapsed": true
   },
   "outputs": [],
   "source": [
    "val_predictions = []\n",
    "val_true = []"
   ]
  },
  {
   "cell_type": "code",
   "execution_count": 43,
   "metadata": {},
   "outputs": [],
   "source": [
    "val_iterator_no_shuffle = DataLoader(\n",
    "    val_folder, batch_size=64, shuffle=False, pin_memory=True\n",
    ")"
   ]
  },
  {
   "cell_type": "code",
   "execution_count": 44,
   "metadata": {},
   "outputs": [
    {
     "name": "stderr",
     "output_type": "stream",
     "text": [
      "100%|██████████| 80/80 [00:47<00:00,  1.66it/s]"
     ]
    },
    {
     "name": "stdout",
     "output_type": "stream",
     "text": [
      "CPU times: user 2min 4s, sys: 9.35 s, total: 2min 13s\n",
      "Wall time: 47.8 s\n"
     ]
    },
    {
     "name": "stderr",
     "output_type": "stream",
     "text": [
      "\n"
     ]
    }
   ],
   "source": [
    "%%time\n",
    "model.eval()\n",
    "\n",
    "for x_batch, y_batch in tqdm(val_iterator_no_shuffle):\n",
    "\n",
    "    x_batch = Variable(x_batch.cuda(), volatile=True)\n",
    "    logits = model(x_batch)\n",
    "    \n",
    "    # compute probabilities\n",
    "    probs = F.softmax(logits) \n",
    "    val_predictions += [probs.cpu().data.numpy()]\n",
    "    \n",
    "    val_true += [y_batch.numpy()]"
   ]
  },
  {
   "cell_type": "code",
   "execution_count": 45,
   "metadata": {
    "collapsed": true
   },
   "outputs": [],
   "source": [
    "val_predictions = np.concatenate(val_predictions, axis=0)\n",
    "val_true = np.concatenate(val_true, axis=0)"
   ]
  },
  {
   "cell_type": "code",
   "execution_count": 46,
   "metadata": {},
   "outputs": [
    {
     "data": {
      "text/plain": [
       "0.82832031250000004"
      ]
     },
     "execution_count": 46,
     "metadata": {},
     "output_type": "execute_result"
    }
   ],
   "source": [
    "accuracy_score(val_true, val_predictions.argmax(1))"
   ]
  },
  {
   "cell_type": "code",
   "execution_count": 47,
   "metadata": {},
   "outputs": [
    {
     "data": {
      "text/plain": [
       "0.86752933369920771"
      ]
     },
     "execution_count": 47,
     "metadata": {},
     "output_type": "execute_result"
    }
   ],
   "source": [
    "log_loss(val_true, val_predictions)"
   ]
  },
  {
   "cell_type": "code",
   "execution_count": 48,
   "metadata": {},
   "outputs": [
    {
     "data": {
      "text/plain": [
       "0.8984375"
      ]
     },
     "execution_count": 48,
     "metadata": {},
     "output_type": "execute_result"
    }
   ],
   "source": [
    "top_k_accuracy(val_true, val_predictions, 2)"
   ]
  },
  {
   "cell_type": "code",
   "execution_count": 49,
   "metadata": {},
   "outputs": [
    {
     "data": {
      "text/plain": [
       "0.92500000000000004"
      ]
     },
     "execution_count": 49,
     "metadata": {},
     "output_type": "execute_result"
    }
   ],
   "source": [
    "top_k_accuracy(val_true, val_predictions, 3)"
   ]
  },
  {
   "cell_type": "code",
   "execution_count": 50,
   "metadata": {},
   "outputs": [
    {
     "data": {
      "text/plain": [
       "0.94960937499999998"
      ]
     },
     "execution_count": 50,
     "metadata": {},
     "output_type": "execute_result"
    }
   ],
   "source": [
    "top_k_accuracy(val_true, val_predictions, 5)"
   ]
  },
  {
   "cell_type": "code",
   "execution_count": 52,
   "metadata": {},
   "outputs": [],
   "source": [
    "val_entropy = entropy(val_predictions)"
   ]
  },
  {
   "cell_type": "code",
   "execution_count": 72,
   "metadata": {},
   "outputs": [
    {
     "data": {
      "image/png": "[encoded data removed]",
      "text/plain": [
       "<matplotlib.figure.Figure at 0x7f61b4115a58>"
      ]
     },
     "metadata": {},
     "output_type": "display_data"
    }
   ],
   "source": [
    "plt.hist(val_entropy, bins=30);"
   ]
  },
  {
   "cell_type": "code",
   "execution_count": 77,
   "metadata": {},
   "outputs": [
    {
     "data": {
      "image/png": "[encoded data removed]",
      "text/plain": [
       "<matplotlib.figure.Figure at 0x7f61984b45c0>"
      ]
     },
     "metadata": {},
     "output_type": "display_data"
    }
   ],
   "source": [
    "plt.hist(val_predictions.max(1), bins=30);"
   ]
  },
  {
   "cell_type": "code",
   "execution_count": 91,
   "metadata": {},
   "outputs": [],
   "source": [
    "fraction_of_positives, mean_predicted_value = model_calibration(val_true, val_predictions, n_bins=10)"
   ]
  },
  {
   "cell_type": "code",
   "execution_count": 92,
   "metadata": {},
   "outputs": [
    {
     "data": {
      "image/png": "[encoded data removed]",
      "text/plain": [
       "<matplotlib.figure.Figure at 0x7f618ffa7e10>"
      ]
     },
     "metadata": {},
     "output_type": "display_data"
    }
   ],
   "source": [
    "plt.plot(mean_predicted_value, fraction_of_positives, '-ok');\n",
    "plt.plot([0.0, 1.0], [0.0, 1.0], '--');"
   ]
  },
  {
   "cell_type": "code",
   "execution_count": 78,
   "metadata": {},
   "outputs": [
    {
     "data": {
      "text/plain": [
       "array([ 0.9 ,  0.75,  1.  ,  0.95,  1.  ,  0.95,  0.95,  0.7 ,  0.95,\n",
       "        0.9 ,  0.7 ,  1.  ,  1.  ,  1.  ,  1.  ,  1.  ,  0.9 ,  1.  ,\n",
       "        0.7 ,  0.85,  0.85,  0.95,  0.85,  1.  ,  0.75,  1.  ,  0.6 ,\n",
       "        0.95,  0.9 ,  0.65,  0.45,  1.  ,  0.95,  1.  ,  0.75,  0.95,\n",
       "        0.75,  0.95,  0.95,  0.9 ,  0.35,  0.75,  0.95,  0.9 ,  0.9 ,\n",
       "        0.95,  0.85,  0.85,  1.  ,  0.9 ,  0.45,  1.  ,  0.65,  0.7 ,\n",
       "        0.5 ,  0.75,  0.95,  0.85,  1.  ,  0.9 ,  0.85,  0.9 ,  0.7 ,\n",
       "        0.9 ,  1.  ,  0.95,  0.5 ,  0.6 ,  0.9 ,  0.95,  0.7 ,  0.3 ,\n",
       "        1.  ,  0.7 ,  1.  ,  0.75,  1.  ,  0.9 ,  0.7 ,  0.9 ,  0.85,\n",
       "        0.95,  0.35,  0.95,  0.7 ,  0.9 ,  0.9 ,  0.95,  0.85,  0.55,\n",
       "        0.55,  0.85,  1.  ,  0.85,  0.95,  0.65,  1.  ,  0.95,  0.8 ,\n",
       "        1.  ,  0.9 ,  0.9 ,  0.65,  0.95,  0.85,  0.7 ,  0.8 ,  0.9 ,\n",
       "        0.5 ,  0.95,  0.65,  0.85,  0.95,  0.8 ,  1.  ,  0.85,  0.75,\n",
       "        0.95,  0.8 ,  0.7 ,  0.8 ,  1.  ,  0.5 ,  0.8 ,  0.8 ,  0.5 ,\n",
       "        0.9 ,  0.9 ,  1.  ,  0.9 ,  0.8 ,  0.95,  0.9 ,  0.65,  0.95,\n",
       "        0.9 ,  1.  ,  0.8 ,  0.85,  0.85,  0.9 ,  0.8 ,  0.9 ,  0.9 ,\n",
       "        0.75,  0.95,  0.95,  0.8 ,  0.95,  0.65,  0.85,  0.9 ,  0.85,\n",
       "        0.8 ,  0.8 ,  0.6 ,  0.85,  0.9 ,  0.9 ,  0.9 ,  0.9 ,  0.8 ,\n",
       "        0.7 ,  0.8 ,  0.7 ,  0.8 ,  0.55,  0.5 ,  1.  ,  0.9 ,  1.  ,\n",
       "        1.  ,  0.95,  0.55,  0.95,  0.65,  0.9 ,  0.85,  0.85,  0.7 ,\n",
       "        0.65,  0.75,  0.7 ,  0.65,  0.95,  0.85,  0.9 ,  0.75,  0.85,\n",
       "        0.45,  0.75,  0.95,  0.8 ,  0.75,  0.8 ,  0.7 ,  0.75,  0.85,\n",
       "        0.95,  0.85,  0.9 ,  0.8 ,  0.95,  0.8 ,  0.85,  0.95,  0.85,\n",
       "        0.8 ,  0.75,  0.8 ,  0.8 ,  0.25,  0.85,  0.65,  0.65,  1.  ,\n",
       "        0.85,  0.9 ,  0.95,  0.95,  0.75,  0.9 ,  0.75,  0.75,  0.75,\n",
       "        0.75,  1.  ,  0.85,  0.65,  0.55,  0.95,  0.95,  0.65,  0.65,\n",
       "        0.9 ,  0.55,  0.9 ,  0.85,  0.85,  1.  ,  0.75,  0.9 ,  0.85,\n",
       "        0.85,  0.8 ,  0.95,  1.  ,  0.95,  0.85,  0.9 ,  0.95,  0.9 ,\n",
       "        0.85,  0.65,  0.9 ,  0.75])"
      ]
     },
     "execution_count": 78,
     "metadata": {},
     "output_type": "execute_result"
    }
   ],
   "source": [
    "per_class_acc = per_class_accuracy(val_true, val_predictions)\n",
    "per_class_acc"
   ]
  }
 ],
 "metadata": {
  "kernelspec": {
   "display_name": "Python 3",
   "language": "python",
   "name": "python3"
  },
  "language_info": {
   "codemirror_mode": {
    "name": "ipython",
    "version": 3
   },
   "file_extension": ".py",
   "mimetype": "text/x-python",
   "name": "python",
   "nbconvert_exporter": "python",
   "pygments_lexer": "ipython3",
   "version": "3.6.1"
  }
 },
 "nbformat": 4,
 "nbformat_minor": 2
}
