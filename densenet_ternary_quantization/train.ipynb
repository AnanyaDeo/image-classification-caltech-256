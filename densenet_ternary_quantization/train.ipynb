{
 "cells": [
  {
   "cell_type": "code",
   "execution_count": 1,
   "metadata": {
    "collapsed": true
   },
   "outputs": [],
   "source": [
    "%load_ext autoreload\n",
    "%autoreload 2"
   ]
  },
  {
   "cell_type": "code",
   "execution_count": 2,
   "metadata": {},
   "outputs": [
    {
     "data": {
      "text/plain": [
       "True"
      ]
     },
     "execution_count": 2,
     "metadata": {},
     "output_type": "execute_result"
    }
   ],
   "source": [
    "import numpy as np\n",
    "from math import ceil\n",
    "import torch\n",
    "from torch.autograd import Variable\n",
    "import torch.optim as optim\n",
    "from torch.utils.data import DataLoader\n",
    "\n",
    "import matplotlib.pyplot as plt\n",
    "%matplotlib inline\n",
    "\n",
    "import sys\n",
    "sys.path.append('../training_utils/')\n",
    "from data_utils import get_folders, get_class_weights\n",
    "\n",
    "# utils specific to quantization\n",
    "from utils import train, quantize, initial_scales\n",
    "torch.cuda.is_available()"
   ]
  },
  {
   "cell_type": "code",
   "execution_count": 3,
   "metadata": {
    "collapsed": true
   },
   "outputs": [],
   "source": [
    "torch.backends.cudnn.benchmark = True"
   ]
  },
  {
   "cell_type": "markdown",
   "metadata": {},
   "source": [
    "# Create data iterators"
   ]
  },
  {
   "cell_type": "code",
   "execution_count": 4,
   "metadata": {
    "collapsed": true
   },
   "outputs": [],
   "source": [
    "batch_size = 32"
   ]
  },
  {
   "cell_type": "code",
   "execution_count": 5,
   "metadata": {},
   "outputs": [
    {
     "data": {
      "text/plain": [
       "16980"
      ]
     },
     "execution_count": 5,
     "metadata": {},
     "output_type": "execute_result"
    }
   ],
   "source": [
    "train_folder, val_folder = get_folders()\n",
    "\n",
    "train_iterator = DataLoader(\n",
    "    train_folder, batch_size=batch_size, num_workers=4,\n",
    "    shuffle=True, pin_memory=True\n",
    ")\n",
    "\n",
    "val_iterator = DataLoader(\n",
    "    val_folder, batch_size=64, num_workers=4,\n",
    "    shuffle=False, pin_memory=True\n",
    ")\n",
    "\n",
    "# number of training samples\n",
    "train_size = len(train_folder.imgs)\n",
    "train_size"
   ]
  },
  {
   "cell_type": "markdown",
   "metadata": {},
   "source": [
    "# Model"
   ]
  },
  {
   "cell_type": "code",
   "execution_count": 6,
   "metadata": {
    "collapsed": true
   },
   "outputs": [],
   "source": [
    "from get_densenet import get_model"
   ]
  },
  {
   "cell_type": "code",
   "execution_count": 7,
   "metadata": {
    "collapsed": true
   },
   "outputs": [],
   "source": [
    "# w[j]: 1/number_of_samples_in_class_j\n",
    "# decode: folder name to class name (in human readable format)\n",
    "w, decode = get_class_weights(val_folder.class_to_idx)"
   ]
  },
  {
   "cell_type": "code",
   "execution_count": 8,
   "metadata": {
    "collapsed": true,
    "scrolled": true
   },
   "outputs": [],
   "source": [
    "model, criterion, optimizer = get_model(class_weights=torch.FloatTensor(w/w.sum()))\n",
    "\n",
    "# load pretrained model, accuracy ~85%\n",
    "model.load_state_dict(torch.load('../densenet/model121.pytorch_state'))"
   ]
  },
  {
   "cell_type": "markdown",
   "metadata": {},
   "source": [
    "#### Keep copy of full precision kernels"
   ]
  },
  {
   "cell_type": "code",
   "execution_count": 9,
   "metadata": {
    "collapsed": true,
    "scrolled": true
   },
   "outputs": [],
   "source": [
    "# copy all full precision kernels of the model\n",
    "all_fp_kernels = [\n",
    "    Variable(kernel.data.clone(), requires_grad=True) \n",
    "    for kernel in optimizer.param_groups[2]['params']\n",
    "]\n",
    "# all_fp_kernels - kernel tensors of all convolutional layers \n",
    "# (with the exception of the first conv layer)\n",
    "\n",
    "# optimizer for updating only all_fp_kernels\n",
    "optimizer_fp = optim.SGD(all_fp_kernels, lr=1e-3)"
   ]
  },
  {
   "cell_type": "markdown",
   "metadata": {},
   "source": [
    "#### initial quantization "
   ]
  },
  {
   "cell_type": "code",
   "execution_count": 10,
   "metadata": {
    "collapsed": true
   },
   "outputs": [],
   "source": [
    "# scaling factors for each quantized layer\n",
    "scaling_factors = []"
   ]
  },
  {
   "cell_type": "code",
   "execution_count": 11,
   "metadata": {
    "collapsed": true
   },
   "outputs": [],
   "source": [
    "# these kernels will be quantized\n",
    "all_kernels = [kernel for kernel in optimizer.param_groups[2]['params']]"
   ]
  },
  {
   "cell_type": "code",
   "execution_count": 12,
   "metadata": {
    "collapsed": true
   },
   "outputs": [],
   "source": [
    " for k, k_fp in zip(all_kernels, all_fp_kernels):\n",
    "    \n",
    "    # choose initial scaling factors \n",
    "    w_p_initial, w_n_initial = initial_scales(k_fp.data)\n",
    "    scaling_factors += [(w_p_initial, w_n_initial)]\n",
    "    \n",
    "    # do quantization, this uses hyperparameter t defined in utils.py file\n",
    "    k.data = quantize(k_fp.data, w_p_initial, w_n_initial)"
   ]
  },
  {
   "cell_type": "markdown",
   "metadata": {},
   "source": [
    "# Train"
   ]
  },
  {
   "cell_type": "code",
   "execution_count": 13,
   "metadata": {},
   "outputs": [
    {
     "data": {
      "text/plain": [
       "531"
      ]
     },
     "execution_count": 13,
     "metadata": {},
     "output_type": "execute_result"
    }
   ],
   "source": [
    "n_epochs = 12\n",
    "n_batches = ceil(train_size/batch_size)\n",
    "n_batches"
   ]
  },
  {
   "cell_type": "code",
   "execution_count": 14,
   "metadata": {
    "scrolled": false
   },
   "outputs": [
    {
     "name": "stdout",
     "output_type": "stream",
     "text": [
      "1.00  3.000 1.776  0.361 0.583  0.620 0.826  251.334\n",
      "2.00  2.032 1.535  0.535 0.635  0.788 0.855  246.075\n",
      "3.00  1.767 1.432  0.585 0.662  0.829 0.863  245.404\n",
      "4.00  1.623 1.361  0.616 0.676  0.847 0.876  245.372\n",
      "5.00  1.543 1.316  0.637 0.681  0.854 0.878  243.982\n",
      "6.00  1.462 1.307  0.659 0.684  0.868 0.882  245.113\n",
      "7.00  1.381 1.270  0.665 0.698  0.878 0.889  244.806\n",
      "8.00  1.363 1.248  0.670 0.703  0.878 0.888  244.124\n",
      "9.00  1.307 1.220  0.683 0.706  0.884 0.893  244.078\n",
      "10.00  1.280 1.210  0.687 0.706  0.890 0.894  243.406\n",
      "11.00  1.248 1.202  0.696 0.713  0.893 0.895  244.256\n",
      "12.00  1.209 1.205  0.705 0.709  0.897 0.892  244.885\n",
      "CPU times: user 48min, sys: 8min 2s, total: 56min 3s\n",
      "Wall time: 49min 2s\n"
     ]
    }
   ],
   "source": [
    "%%time\n",
    "all_losses, _ = train(\n",
    "    model, scaling_factors, criterion, \n",
    "    optimizer, optimizer_fp,\n",
    "    train_iterator, n_epochs, n_batches,\n",
    "    val_iterator, validation_step=531, n_validation_batches=80\n",
    ")\n",
    "# epoch logloss    accuracy     top5_accuracy time  (first value: train, second value: val)"
   ]
  },
  {
   "cell_type": "markdown",
   "metadata": {},
   "source": [
    "# Loss/epoch plots"
   ]
  },
  {
   "cell_type": "code",
   "execution_count": 15,
   "metadata": {},
   "outputs": [
    {
     "data": {
      "image/png": "[encoded data removed]",
      "text/plain": [
       "<matplotlib.figure.Figure at 0x7f6b5b596be0>"
      ]
     },
     "metadata": {},
     "output_type": "display_data"
    }
   ],
   "source": [
    "epochs = [x[0] for x in all_losses]\n",
    "plt.plot(epochs, [x[1] for x in all_losses], label='train');\n",
    "plt.plot(epochs, [x[2] for x in all_losses], label='val');\n",
    "plt.legend();\n",
    "plt.xlabel('epoch');\n",
    "plt.ylabel('loss');"
   ]
  },
  {
   "cell_type": "code",
   "execution_count": 16,
   "metadata": {},
   "outputs": [
    {
     "data": {
      "image/png": "[encoded data removed]",
      "text/plain": [
       "<matplotlib.figure.Figure at 0x7f6b5b555208>"
      ]
     },
     "metadata": {},
     "output_type": "display_data"
    }
   ],
   "source": [
    "plt.plot(epochs, [x[3] for x in all_losses], label='train');\n",
    "plt.plot(epochs, [x[4] for x in all_losses], label='val');\n",
    "plt.legend();\n",
    "plt.xlabel('epoch');\n",
    "plt.ylabel('accuracy');"
   ]
  },
  {
   "cell_type": "code",
   "execution_count": 17,
   "metadata": {},
   "outputs": [
    {
     "data": {
      "image/png": "[encoded data removed]",
      "text/plain": [
       "<matplotlib.figure.Figure at 0x7f6b5ac94278>"
      ]
     },
     "metadata": {},
     "output_type": "display_data"
    }
   ],
   "source": [
    "plt.plot(epochs, [x[5] for x in all_losses], label='train');\n",
    "plt.plot(epochs, [x[6] for x in all_losses], label='val');\n",
    "plt.legend();\n",
    "plt.xlabel('epoch');\n",
    "plt.ylabel('top5_accuracy');"
   ]
  },
  {
   "cell_type": "markdown",
   "metadata": {},
   "source": [
    "# Save"
   ]
  },
  {
   "cell_type": "code",
   "execution_count": 18,
   "metadata": {
    "collapsed": true
   },
   "outputs": [],
   "source": [
    "model.cpu();\n",
    "torch.save(model.state_dict(), 'model_ternary_quantization.pytorch_state')"
   ]
  }
 ],
 "metadata": {
  "kernelspec": {
   "display_name": "Python 3",
   "language": "python",
   "name": "python3"
  },
  "language_info": {
   "codemirror_mode": {
    "name": "ipython",
    "version": 3
   },
   "file_extension": ".py",
   "mimetype": "text/x-python",
   "name": "python",
   "nbconvert_exporter": "python",
   "pygments_lexer": "ipython3",
   "version": "3.5.2"
  }
 },
 "nbformat": 4,
 "nbformat_minor": 2
}
