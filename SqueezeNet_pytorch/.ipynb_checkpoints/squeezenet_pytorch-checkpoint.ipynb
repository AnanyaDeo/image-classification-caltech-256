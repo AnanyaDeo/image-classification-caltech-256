{
 "cells": [
  {
   "cell_type": "code",
   "execution_count": 1,
   "metadata": {},
   "outputs": [
    {
     "name": "stderr",
     "output_type": "stream",
     "text": [
      "Using TensorFlow backend.\n"
     ]
    }
   ],
   "source": [
    "import numpy as np\n",
    "import math\n",
    "import time\n",
    "from tqdm import tqdm\n",
    "from sklearn.model_selection import train_test_split\n",
    "from keras.preprocessing.image import ImageDataGenerator\n",
    "\n",
    "import torch\n",
    "import torch.nn as nn\n",
    "import torch.optim as optim\n",
    "import torch.nn.functional as F\n",
    "import torchvision.models as models\n",
    "from torch.utils.data import TensorDataset, DataLoader\n",
    "\n",
    "from torch.nn.init import normal, constant\n",
    "from torch.autograd import Variable\n",
    "\n",
    "import matplotlib.pyplot as plt\n",
    "%matplotlib inline"
   ]
  },
  {
   "cell_type": "code",
   "execution_count": 2,
   "metadata": {},
   "outputs": [
    {
     "data": {
      "text/plain": [
       "True"
      ]
     },
     "execution_count": 2,
     "metadata": {},
     "output_type": "execute_result"
    }
   ],
   "source": [
    "import torch.cuda\n",
    "torch.cuda.is_available()"
   ]
  },
  {
   "cell_type": "code",
   "execution_count": 3,
   "metadata": {
    "collapsed": true
   },
   "outputs": [],
   "source": [
    "torch.backends.cudnn.benchmark = True"
   ]
  },
  {
   "cell_type": "markdown",
   "metadata": {},
   "source": [
    "# Load data"
   ]
  },
  {
   "cell_type": "code",
   "execution_count": 4,
   "metadata": {
    "collapsed": true
   },
   "outputs": [],
   "source": [
    "images = np.load('images.npy')\n",
    "targets = np.load('targets.npy')"
   ]
  },
  {
   "cell_type": "code",
   "execution_count": 5,
   "metadata": {
    "collapsed": true
   },
   "outputs": [],
   "source": [
    "unique_classes = np.unique(targets)\n",
    "# class name -> integer\n",
    "encode = {n: i for i, n in enumerate(unique_classes)}\n",
    "# integer -> class name\n",
    "decode = {i: n for i, n in enumerate(unique_classes)}"
   ]
  },
  {
   "cell_type": "code",
   "execution_count": 6,
   "metadata": {
    "collapsed": true
   },
   "outputs": [],
   "source": [
    "np.save('decode.npy', decode)"
   ]
  },
  {
   "cell_type": "code",
   "execution_count": 7,
   "metadata": {
    "collapsed": true
   },
   "outputs": [],
   "source": [
    "# encode class names by integers\n",
    "targets = np.array([encode[n] for n in targets], dtype='int64')"
   ]
  },
  {
   "cell_type": "markdown",
   "metadata": {},
   "source": [
    "# Standardize"
   ]
  },
  {
   "cell_type": "code",
   "execution_count": 8,
   "metadata": {
    "collapsed": true
   },
   "outputs": [],
   "source": [
    "# the values are taken from here \n",
    "# http://pytorch.org/docs/master/torchvision/models.html\n",
    "mean = np.array([0.485, 0.456, 0.406])\n",
    "std = np.array([0.229, 0.224, 0.225])"
   ]
  },
  {
   "cell_type": "code",
   "execution_count": 9,
   "metadata": {
    "collapsed": true
   },
   "outputs": [],
   "source": [
    "images = images.astype('float32')\n",
    "images /= 255.0"
   ]
  },
  {
   "cell_type": "code",
   "execution_count": 10,
   "metadata": {},
   "outputs": [
    {
     "name": "stdout",
     "output_type": "stream",
     "text": [
      "CPU times: user 55.1 s, sys: 0 ns, total: 55.1 s\n",
      "Wall time: 55.1 s\n"
     ]
    }
   ],
   "source": [
    "%%time\n",
    "images -= mean\n",
    "images /= std"
   ]
  },
  {
   "cell_type": "code",
   "execution_count": 11,
   "metadata": {
    "collapsed": true
   },
   "outputs": [],
   "source": [
    "# transform to NCHW format\n",
    "images = np.transpose(images, axes=(0, 3, 1, 2))"
   ]
  },
  {
   "cell_type": "code",
   "execution_count": 12,
   "metadata": {},
   "outputs": [
    {
     "name": "stdout",
     "output_type": "stream",
     "text": [
      "18317 4580\n"
     ]
    }
   ],
   "source": [
    "X_train, X_val, Y_train, Y_val = train_test_split(\n",
    "    images, targets, \n",
    "    test_size=0.2, stratify=targets\n",
    ")\n",
    "print(len(X_train), len(X_val))"
   ]
  },
  {
   "cell_type": "code",
   "execution_count": 13,
   "metadata": {
    "collapsed": true
   },
   "outputs": [],
   "source": [
    "del images\n",
    "del targets"
   ]
  },
  {
   "cell_type": "markdown",
   "metadata": {},
   "source": [
    "# Data augmentation"
   ]
  },
  {
   "cell_type": "code",
   "execution_count": 14,
   "metadata": {
    "collapsed": true
   },
   "outputs": [],
   "source": [
    "data_generator = ImageDataGenerator(\n",
    "    rotation_range=30, \n",
    "    zoom_range=0.05,\n",
    "    horizontal_flip=True, \n",
    "    width_shift_range=0.15,\n",
    "    height_shift_range=0.15,\n",
    "    shear_range=0.0001,\n",
    "    channel_shift_range=0.25,\n",
    "    data_format='channels_first'\n",
    ")\n",
    "\n",
    "train_generator = data_generator.flow(\n",
    "        X_train, Y_train,\n",
    "        batch_size=len(X_train)\n",
    ")"
   ]
  },
  {
   "cell_type": "markdown",
   "metadata": {},
   "source": [
    "# Validation set"
   ]
  },
  {
   "cell_type": "code",
   "execution_count": 15,
   "metadata": {
    "collapsed": true
   },
   "outputs": [],
   "source": [
    "val_data = TensorDataset(\n",
    "    torch.FloatTensor(X_val[:512]), \n",
    "    torch.LongTensor(Y_val[:512])\n",
    ")"
   ]
  },
  {
   "cell_type": "markdown",
   "metadata": {},
   "source": [
    "# Model"
   ]
  },
  {
   "cell_type": "code",
   "execution_count": 16,
   "metadata": {
    "collapsed": true
   },
   "outputs": [],
   "source": [
    "# load the SqueezeNet v1.1\n",
    "squeezenet = models.squeezenet1_1(pretrained=True)\n",
    "squeezenet.num_classes = 257\n",
    "\n",
    "# reset the last layer\n",
    "squeezenet.classifier = nn.Sequential(\n",
    "    nn.Dropout(p=0.7),\n",
    "    nn.Conv2d(512, 257, kernel_size=(1, 1), stride=(1, 1)),\n",
    "    nn.ReLU(),\n",
    "    nn.AvgPool2d(13)\n",
    ")\n",
    "\n",
    "# initialize the last layer's weights\n",
    "normal(squeezenet.classifier[1].weight, std=0.01);\n",
    "constant(squeezenet.classifier[1].bias, 0.0);\n",
    "\n",
    "# list of all trainable parameters of the model\n",
    "params = list(squeezenet.named_parameters())\n",
    "\n",
    "# freeze all but the last two layers (fire module and conv. layer)\n",
    "fixed_params = [\n",
    "    p[1] for p in params \n",
    "    if not (\n",
    "        ('classifier.1' in p[0]) or ('features.12' in p[0])\n",
    "    )\n",
    "]\n",
    "\n",
    "for p in fixed_params:\n",
    "    p.requires_grad = False\n",
    "\n",
    "# all params in the last layer\n",
    "params1 = [p for p in params if 'classifier.1' in p[0]]\n",
    "params1_w = [p[1] for p in params1 if 'weight' in p[0]]\n",
    "params1_b = [p[1] for p in params1 if 'bias' in p[0]]\n",
    "\n",
    "# all params in the last fire module\n",
    "params2 = [p for p in params if 'features.12' in p[0]]\n",
    "params2_w = [p[1] for p in params2 if 'weight' in p[0]]\n",
    "params2_b = [p[1] for p in params2 if 'bias' in p[0]]\n",
    "\n",
    "# mend relu layers\n",
    "squeezenet.features[1].inplace = False\n",
    "\n",
    "for m in list(squeezenet.named_modules()):\n",
    "    if 'activation' in m[0]:\n",
    "        m[1].inplace = False"
   ]
  },
  {
   "cell_type": "code",
   "execution_count": 17,
   "metadata": {
    "collapsed": true
   },
   "outputs": [],
   "source": [
    "# loss function\n",
    "criterion = nn.CrossEntropyLoss()\n",
    "\n",
    "# set different learning rates \n",
    "conv_lr = 1e-3\n",
    "fire_lr = 1e-9\n",
    "\n",
    "optimizer = optim.SGD([\n",
    "    {'params': params1_w, 'lr': conv_lr, 'weight_decay': 1e-4}, \n",
    "    {'params': params2_w, 'lr': fire_lr, 'weight_decay': 1e-9},\n",
    "    {'params': params1_b, 'lr': conv_lr}, \n",
    "    {'params': params2_b, 'lr': fire_lr},\n",
    "], momentum=0.7, nesterov=True)"
   ]
  },
  {
   "cell_type": "markdown",
   "metadata": {},
   "source": [
    "# Train"
   ]
  },
  {
   "cell_type": "code",
   "execution_count": 18,
   "metadata": {
    "collapsed": true
   },
   "outputs": [],
   "source": [
    "def train(x_batch, y_batch):\n",
    "    \n",
    "    squeezenet.train()\n",
    "    x_batch, y_batch = Variable(x_batch.cuda()), Variable(y_batch.cuda())\n",
    "    optimizer.zero_grad()\n",
    "    logits = squeezenet(x_batch)\n",
    "    \n",
    "    # compute logloss\n",
    "    loss = criterion(logits, y_batch)\n",
    "    batch_loss = loss.data[0]\n",
    "    \n",
    "    # compute accuracy\n",
    "    pred = F.softmax(logits).max(1)[1]\n",
    "    batch_accuracy = pred.eq(y_batch).float().mean().data[0]\n",
    "\n",
    "    loss.backward()\n",
    "    optimizer.step()\n",
    "    return batch_loss, batch_accuracy"
   ]
  },
  {
   "cell_type": "code",
   "execution_count": 19,
   "metadata": {},
   "outputs": [
    {
     "data": {
      "text/plain": [
       "287"
      ]
     },
     "execution_count": 19,
     "metadata": {},
     "output_type": "execute_result"
    }
   ],
   "source": [
    "batch_size = 64\n",
    "n_epochs = 30\n",
    "validation_step = 150\n",
    "regeneration_period = 11\n",
    "n_batches = math.ceil(len(X_train)/batch_size)\n",
    "n_batches"
   ]
  },
  {
   "cell_type": "code",
   "execution_count": 20,
   "metadata": {},
   "outputs": [
    {
     "name": "stdout",
     "output_type": "stream",
     "text": [
      "CPU times: user 2min 17s, sys: 3.29 s, total: 2min 20s\n",
      "Wall time: 2min 20s\n"
     ]
    }
   ],
   "source": [
    "%%time\n",
    "# generate initial data\n",
    "x_chunk, y_chunk = train_generator.next()\n",
    "\n",
    "train_data = TensorDataset(\n",
    "    torch.FloatTensor(x_chunk), torch.LongTensor(y_chunk)\n",
    ")\n",
    "train_loader = DataLoader(\n",
    "    train_data, batch_size=batch_size, shuffle=True, drop_last=True\n",
    ")"
   ]
  },
  {
   "cell_type": "code",
   "execution_count": 21,
   "metadata": {
    "collapsed": true
   },
   "outputs": [],
   "source": [
    "# move the model to gpu\n",
    "squeezenet.cuda();"
   ]
  },
  {
   "cell_type": "code",
   "execution_count": 22,
   "metadata": {
    "collapsed": true
   },
   "outputs": [],
   "source": [
    "all_losses = []"
   ]
  },
  {
   "cell_type": "code",
   "execution_count": 23,
   "metadata": {
    "scrolled": false
   },
   "outputs": [
    {
     "name": "stdout",
     "output_type": "stream",
     "text": [
      "0.52  4.993 4.484  0.122 0.197  15.782\n",
      "1.05  4.253 3.790  0.212 0.262  14.974\n",
      "1.57  3.694 3.233  0.292 0.338  15.048\n",
      "2.09  3.264 2.790  0.350 0.410  14.958\n",
      "2.61  2.936 2.460  0.412 0.477  15.042\n",
      "3.14  2.678 2.304  0.448 0.494  14.960\n",
      "3.66  2.468 2.122  0.492 0.529  15.041\n",
      "4.18  2.323 1.990  0.512 0.561  14.952\n",
      "4.70  2.208 1.912  0.540 0.574  15.043\n",
      "5.23  2.107 1.839  0.548 0.580  14.949\n",
      "5.75  2.036 1.779  0.564 0.609  15.051\n",
      "6.27  1.952 1.723  0.574 0.592  15.027\n",
      "6.79  1.894 1.701  0.595 0.604  15.066\n",
      "7.32  1.798 1.660  0.600 0.629  15.027\n",
      "7.84  1.808 1.626  0.612 0.609  15.129\n",
      "8.36  1.770 1.598  0.609 0.617  14.950\n",
      "8.89  1.690 1.584  0.630 0.629  15.037\n",
      "9.41  1.653 1.556  0.626 0.641  14.953\n",
      "9.93  1.647 1.543  0.639 0.633  15.037\n",
      "10.45  1.590 1.526  0.642 0.645  14.945\n",
      "10.98  1.585 1.498  0.651 0.646  15.038\n",
      "dataset generation\n",
      "11.50  1.657 1.486  0.622 0.664  155.001\n",
      "12.02  1.655 1.475  0.615 0.658  14.965\n",
      "12.54  1.617 1.465  0.635 0.648  15.059\n",
      "13.07  1.592 1.456  0.631 0.656  15.038\n",
      "13.59  1.536 1.436  0.654 0.672  15.056\n",
      "14.11  1.535 1.454  0.650 0.648  15.030\n",
      "14.63  1.490 1.428  0.661 0.660  15.072\n",
      "15.16  1.488 1.436  0.658 0.658  15.020\n",
      "15.68  1.477 1.417  0.668 0.666  15.071\n",
      "16.20  1.431 1.411  0.670 0.668  15.021\n",
      "16.72  1.428 1.406  0.677 0.666  15.068\n",
      "17.25  1.401 1.401  0.677 0.664  15.018\n",
      "17.77  1.389 1.385  0.683 0.678  15.065\n",
      "18.29  1.383 1.390  0.680 0.664  15.021\n",
      "18.82  1.346 1.387  0.692 0.672  15.054\n",
      "19.34  1.313 1.388  0.695 0.664  15.030\n",
      "19.86  1.332 1.397  0.697 0.670  15.069\n",
      "20.38  1.295 1.381  0.694 0.652  15.015\n",
      "20.91  1.303 1.385  0.702 0.678  15.058\n",
      "21.43  1.248 1.375  0.711 0.678  15.028\n",
      "21.95  1.290 1.382  0.701 0.674  15.072\n",
      "dataset generation\n",
      "22.47  1.346 1.388  0.676 0.676  155.179\n",
      "23.00  1.412 1.359  0.667 0.678  15.067\n",
      "23.52  1.333 1.359  0.677 0.674  14.943\n",
      "24.04  1.343 1.353  0.679 0.684  14.941\n",
      "24.56  1.320 1.355  0.688 0.682  15.040\n",
      "25.09  1.294 1.357  0.689 0.682  14.960\n",
      "25.61  1.285 1.345  0.700 0.674  15.050\n",
      "26.13  1.267 1.332  0.695 0.680  15.029\n",
      "26.66  1.266 1.342  0.702 0.686  15.044\n",
      "27.18  1.238 1.338  0.700 0.670  14.949\n",
      "27.70  1.232 1.338  0.712 0.680  15.129\n",
      "28.22  1.238 1.349  0.703 0.693  14.966\n",
      "28.75  1.217 1.317  0.711 0.689  15.125\n",
      "29.27  1.183 1.339  0.720 0.678  14.964\n",
      "29.79  1.192 1.318  0.718 0.684  15.122\n",
      "CPU times: user 15min 54s, sys: 3min 43s, total: 19min 38s\n",
      "Wall time: 19min 40s\n"
     ]
    }
   ],
   "source": [
    "%%time\n",
    "running_loss = 0.0\n",
    "running_accuracy = 0.0 \n",
    "start = time.time()\n",
    "\n",
    "for epoch in range(0, n_epochs):\n",
    "    for i, (x_batch, y_batch) in enumerate(train_loader, 1):\n",
    "\n",
    "        batch_loss, batch_accuracy = train(x_batch, y_batch)\n",
    "        running_loss += batch_loss\n",
    "        running_accuracy += batch_accuracy\n",
    "        step = i + epoch * n_batches\n",
    "        \n",
    "        if step % validation_step == 0:\n",
    "\n",
    "            end = time.time()\n",
    "            squeezenet.eval()\n",
    "            x_val = Variable(val_data.data_tensor.cuda(), volatile=True)\n",
    "            y_val = Variable(val_data.target_tensor.cuda(), volatile=True)\n",
    "            logits = squeezenet(x_val)\n",
    "            \n",
    "            # compute logloss\n",
    "            test_loss = criterion(logits, y_val).data[0]\n",
    "            \n",
    "            # compute accuracy\n",
    "            pred = F.softmax(logits).max(1)[1]\n",
    "            test_accuracy = pred.eq(y_val).float().mean().data[0]\n",
    "\n",
    "            print('{0:.2f}  {1:.3f} {2:.3f}  {3:.3f} {4:.3f}  {5:.3f}'.format(\n",
    "                step/n_batches, running_loss/validation_step, test_loss, \n",
    "                running_accuracy/validation_step, test_accuracy, end - start\n",
    "            ))\n",
    "            all_losses += [(\n",
    "                running_loss/validation_step, test_loss, \n",
    "                running_accuracy/validation_step, test_accuracy\n",
    "            )] \n",
    "            running_loss = 0.0\n",
    "            running_accuracy = 0.0 \n",
    "            start = time.time()\n",
    "    \n",
    "    if (epoch + 1) % regeneration_period == 0:\n",
    "        print('dataset generation')\n",
    "        x_chunk, y_chunk = train_generator.next()\n",
    "        train_data = TensorDataset(\n",
    "            torch.FloatTensor(x_chunk), torch.LongTensor(y_chunk)\n",
    "        )\n",
    "        train_loader = DataLoader(\n",
    "            train_data, batch_size=batch_size, \n",
    "            shuffle=True, drop_last=True\n",
    "        )"
   ]
  },
  {
   "cell_type": "markdown",
   "metadata": {},
   "source": [
    "# Loss/epoch"
   ]
  },
  {
   "cell_type": "code",
   "execution_count": 24,
   "metadata": {},
   "outputs": [
    {
     "data": {
      "image/png": "[encoded data removed]",
      "text/plain": [
       "<matplotlib.figure.Figure at 0x7fea244b13c8>"
      ]
     },
     "metadata": {},
     "output_type": "display_data"
    }
   ],
   "source": [
    "plt.plot([x[0] for x in all_losses], label='train');\n",
    "plt.plot([x[1] for x in all_losses], label='test');\n",
    "plt.legend();\n",
    "plt.xlabel('epoch');\n",
    "plt.ylabel('loss');"
   ]
  },
  {
   "cell_type": "code",
   "execution_count": 25,
   "metadata": {},
   "outputs": [
    {
     "data": {
      "image/png": "[encoded data removed]",
      "text/plain": [
       "<matplotlib.figure.Figure at 0x7fea24494860>"
      ]
     },
     "metadata": {},
     "output_type": "display_data"
    }
   ],
   "source": [
    "plt.plot([x[2] for x in all_losses], label='train');\n",
    "plt.plot([x[3] for x in all_losses], label='test');\n",
    "plt.legend();\n",
    "plt.xlabel('epoch');\n",
    "plt.ylabel('accuracy');"
   ]
  },
  {
   "cell_type": "markdown",
   "metadata": {},
   "source": [
    "# Accuracy on the rest of the val. set"
   ]
  },
  {
   "cell_type": "code",
   "execution_count": 26,
   "metadata": {
    "collapsed": true
   },
   "outputs": [],
   "source": [
    "true = Variable(torch.LongTensor(Y_val[-512:])).cuda()\n",
    "pred = F.softmax(squeezenet(\n",
    "    Variable(torch.FloatTensor(X_val[-512:]).cuda(), volatile=True)\n",
    ")).max(1)[1]"
   ]
  },
  {
   "cell_type": "code",
   "execution_count": 27,
   "metadata": {},
   "outputs": [
    {
     "data": {
      "text/plain": [
       "0.666015625"
      ]
     },
     "execution_count": 27,
     "metadata": {},
     "output_type": "execute_result"
    }
   ],
   "source": [
    "accuracy = pred.eq(true).float().mean().data[0]\n",
    "accuracy"
   ]
  },
  {
   "cell_type": "code",
   "execution_count": 28,
   "metadata": {
    "collapsed": true
   },
   "outputs": [],
   "source": [
    "# another part\n",
    "true = Variable(torch.LongTensor(Y_val[-1024:-512])).cuda()\n",
    "pred = F.softmax(squeezenet(\n",
    "    Variable(torch.FloatTensor(X_val[-1024:-512]).cuda(), volatile=True)\n",
    ")).max(1)[1]"
   ]
  },
  {
   "cell_type": "code",
   "execution_count": 29,
   "metadata": {},
   "outputs": [
    {
     "data": {
      "text/plain": [
       "0.67578125"
      ]
     },
     "execution_count": 29,
     "metadata": {},
     "output_type": "execute_result"
    }
   ],
   "source": [
    "accuracy = pred.eq(true).float().mean().data[0]\n",
    "accuracy"
   ]
  },
  {
   "cell_type": "markdown",
   "metadata": {},
   "source": [
    "# Test set predictions"
   ]
  },
  {
   "cell_type": "code",
   "execution_count": 30,
   "metadata": {
    "collapsed": true
   },
   "outputs": [],
   "source": [
    "test_images = np.load('test_images.npy')"
   ]
  },
  {
   "cell_type": "code",
   "execution_count": 31,
   "metadata": {
    "collapsed": true
   },
   "outputs": [],
   "source": [
    "test_images = test_images.astype('float32')\n",
    "test_images /= 255.0\n",
    "\n",
    "test_images -= mean\n",
    "test_images /= std\n",
    "\n",
    "test_images = np.transpose(test_images, axes=(0, 3, 1, 2))"
   ]
  },
  {
   "cell_type": "code",
   "execution_count": 32,
   "metadata": {
    "collapsed": true
   },
   "outputs": [],
   "source": [
    "test_probs = np.zeros((len(test_images), 5), dtype='float32')\n",
    "test_classes = np.zeros((len(test_images), 5), dtype='int32')"
   ]
  },
  {
   "cell_type": "code",
   "execution_count": 33,
   "metadata": {},
   "outputs": [
    {
     "name": "stderr",
     "output_type": "stream",
     "text": [
      "7710it [01:17, 98.99it/s]\n"
     ]
    }
   ],
   "source": [
    "for j, image in tqdm(enumerate(test_images)):\n",
    "    \n",
    "    image = np.expand_dims(image, 0)\n",
    "    image = Variable(torch.FloatTensor(image).cuda(), volatile=True)\n",
    "    \n",
    "    test_probs[j] = F.softmax(\n",
    "        squeezenet(image)\n",
    "    ).cpu().sort(1, descending=True)[0][0][:5].data.numpy()\n",
    "    \n",
    "    test_classes[j] = F.softmax(\n",
    "        squeezenet(image)\n",
    "    ).cpu().sort(1, descending=True)[1][0][:5].data.numpy()"
   ]
  },
  {
   "cell_type": "code",
   "execution_count": 34,
   "metadata": {
    "collapsed": true
   },
   "outputs": [],
   "source": [
    "np.save('test_probs.npy', test_probs)\n",
    "np.save('test_classes.npy', test_classes)"
   ]
  },
  {
   "cell_type": "markdown",
   "metadata": {},
   "source": [
    "# Save the model"
   ]
  },
  {
   "cell_type": "code",
   "execution_count": 35,
   "metadata": {
    "collapsed": true
   },
   "outputs": [],
   "source": [
    "torch.save(squeezenet.state_dict(), 'my_squeezenet.pytorch')"
   ]
  }
 ],
 "metadata": {
  "kernelspec": {
   "display_name": "Python 3",
   "language": "python",
   "name": "python3"
  },
  "language_info": {
   "codemirror_mode": {
    "name": "ipython",
    "version": 3
   },
   "file_extension": ".py",
   "mimetype": "text/x-python",
   "name": "python",
   "nbconvert_exporter": "python",
   "pygments_lexer": "ipython3",
   "version": "3.6.0"
  }
 },
 "nbformat": 4,
 "nbformat_minor": 2
}
