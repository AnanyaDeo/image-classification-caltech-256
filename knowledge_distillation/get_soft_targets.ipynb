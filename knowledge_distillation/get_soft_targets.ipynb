{
 "cells": [
  {
   "cell_type": "code",
   "execution_count": null,
   "metadata": {
    "collapsed": true
   },
   "outputs": [],
   "source": [
    "%load_ext autoreload\n",
    "%autoreload 2"
   ]
  },
  {
   "cell_type": "code",
   "execution_count": null,
   "metadata": {
    "collapsed": true
   },
   "outputs": [],
   "source": [
    "import numpy as np\n",
    "import numexpr as ne\n",
    "import time\n",
    "import copy\n",
    "import sys\n",
    "\n",
    "from tqdm import tqdm\n",
    "from sklearn.metrics import accuracy_score, log_loss\n",
    "\n",
    "import torch\n",
    "import torch.nn.functional as F\n",
    "from torch.utils.data import TensorDataset, DataLoader\n",
    "from torch.autograd import Variable\n",
    "\n",
    "import matplotlib.pyplot as plt\n",
    "%matplotlib inline\n",
    "\n",
    "sys.path.append('../pytorch_utils/')\n",
    "from utils import get_data, top5_accuracy, per_class_accuracy"
   ]
  },
  {
   "cell_type": "code",
   "execution_count": null,
   "metadata": {},
   "outputs": [],
   "source": [
    "import torch.cuda\n",
    "torch.cuda.is_available()"
   ]
  },
  {
   "cell_type": "code",
   "execution_count": null,
   "metadata": {
    "collapsed": true
   },
   "outputs": [],
   "source": [
    "torch.backends.cudnn.benchmark = True"
   ]
  },
  {
   "cell_type": "markdown",
   "metadata": {},
   "source": [
    "# Load data"
   ]
  },
  {
   "cell_type": "code",
   "execution_count": null,
   "metadata": {},
   "outputs": [],
   "source": [
    "%%time\n",
    "X_train, X_val, Y_train, Y_val = get_data()\n",
    "train_size = len(X_train)\n",
    "val_size = len(X_val)\n",
    "print(train_size, val_size)"
   ]
  },
  {
   "cell_type": "markdown",
   "metadata": {},
   "source": [
    "# Create iterators"
   ]
  },
  {
   "cell_type": "code",
   "execution_count": null,
   "metadata": {
    "collapsed": true
   },
   "outputs": [],
   "source": [
    "val_data = TensorDataset(\n",
    "    torch.FloatTensor(X_val), \n",
    "    torch.LongTensor(Y_val)\n",
    ")\n",
    "\n",
    "val_iterator = DataLoader(\n",
    "    val_data, batch_size=64, shuffle=False, pin_memory=True\n",
    ")"
   ]
  },
  {
   "cell_type": "code",
   "execution_count": null,
   "metadata": {
    "collapsed": true
   },
   "outputs": [],
   "source": [
    "train_data = TensorDataset(\n",
    "    torch.FloatTensor(X_train), \n",
    "    torch.LongTensor(Y_train)\n",
    ")\n",
    "\n",
    "train_iterator = DataLoader(\n",
    "    train_data, batch_size=64, shuffle=False, pin_memory=True\n",
    ")"
   ]
  },
  {
   "cell_type": "markdown",
   "metadata": {},
   "source": [
    "# Get models"
   ]
  },
  {
   "cell_type": "code",
   "execution_count": null,
   "metadata": {
    "collapsed": true
   },
   "outputs": [],
   "source": [
    "sys.path.append('../densenet/')\n",
    "sys.path.append('../resnet/')\n",
    "sys.path.append('../inception_v3/')\n",
    "\n",
    "from model_densenet import make_model as make_densenet\n",
    "from model_resnet import make_model as make_resnet\n",
    "from model_inception import make_model as make_inception"
   ]
  },
  {
   "cell_type": "code",
   "execution_count": null,
   "metadata": {},
   "outputs": [],
   "source": [
    "densenet, _, _ = make_densenet()\n",
    "densenet = densenet.cpu()\n",
    "\n",
    "resnet, _, _ = make_resnet()\n",
    "resnet = resnet.cpu()\n",
    "\n",
    "inception, _, _ = make_inception()\n",
    "inception = inception.cpu()"
   ]
  },
  {
   "cell_type": "code",
   "execution_count": null,
   "metadata": {
    "collapsed": true
   },
   "outputs": [],
   "source": [
    "all_models = [\n",
    "    (densenet, '../densenet/model_state0.pytorch'),\n",
    "    (resnet, '../resnet/model_state0.pytorch'),\n",
    "    (inception, '../inception_v3/model_state0.pytorch')\n",
    "]"
   ]
  },
  {
   "cell_type": "markdown",
   "metadata": {
    "collapsed": true
   },
   "source": [
    "# Try ensemble"
   ]
  },
  {
   "cell_type": "code",
   "execution_count": null,
   "metadata": {
    "collapsed": true
   },
   "outputs": [],
   "source": [
    "ensemble_predictions = {}"
   ]
  },
  {
   "cell_type": "code",
   "execution_count": null,
   "metadata": {},
   "outputs": [],
   "source": [
    "%%time\n",
    "for i, (model, state) in enumerate(all_models):\n",
    "    \n",
    "    model.load_state_dict(torch.load(state))\n",
    "    model = model.cuda()\n",
    "    ensemble_predictions[i] = []\n",
    "    model.eval()\n",
    "    \n",
    "    for x_batch, _ in tqdm(val_iterator):\n",
    "\n",
    "        x_batch = Variable(x_batch.cuda(), volatile=True)\n",
    "        logits = model(x_batch)\n",
    "\n",
    "        # compute probabilities\n",
    "        probs = F.softmax(logits) \n",
    "        ensemble_predictions[i] += [probs.cpu().data.numpy()]\n",
    "    \n",
    "    model = model.cpu()"
   ]
  },
  {
   "cell_type": "code",
   "execution_count": null,
   "metadata": {
    "collapsed": true,
    "scrolled": true
   },
   "outputs": [],
   "source": [
    "ensemble_predictions = {\n",
    "    p: np.concatenate(ensemble_predictions[p], axis=0) \n",
    "    for p in ensemble_predictions\n",
    "}"
   ]
  },
  {
   "cell_type": "code",
   "execution_count": null,
   "metadata": {
    "collapsed": true
   },
   "outputs": [],
   "source": [
    "predictions = np.stack(ensemble_predictions.values()).mean(0)"
   ]
  },
  {
   "cell_type": "code",
   "execution_count": null,
   "metadata": {},
   "outputs": [],
   "source": [
    "accuracy_score(Y_val, predictions.argmax(1))"
   ]
  },
  {
   "cell_type": "code",
   "execution_count": null,
   "metadata": {},
   "outputs": [],
   "source": [
    "log_loss(Y_val, predictions)"
   ]
  },
  {
   "cell_type": "code",
   "execution_count": null,
   "metadata": {},
   "outputs": [],
   "source": [
    "top5_accuracy(Y_val, predictions)"
   ]
  },
  {
   "cell_type": "code",
   "execution_count": null,
   "metadata": {},
   "outputs": [],
   "source": [
    "per_class_acc = per_class_accuracy(Y_val, predictions)\n",
    "per_class_acc"
   ]
  },
  {
   "cell_type": "markdown",
   "metadata": {},
   "source": [
    "# Error analysis"
   ]
  },
  {
   "cell_type": "code",
   "execution_count": null,
   "metadata": {},
   "outputs": [],
   "source": [
    "erroneous = Y_val != predictions.argmax(1)\n",
    "n_errors = len(Y_val[erroneous])\n",
    "n_errors"
   ]
  },
  {
   "cell_type": "code",
   "execution_count": null,
   "metadata": {
    "collapsed": true
   },
   "outputs": [],
   "source": [
    "to_show = np.random.choice(np.arange(0, n_errors), size=30, replace=False)"
   ]
  },
  {
   "cell_type": "code",
   "execution_count": null,
   "metadata": {
    "collapsed": true
   },
   "outputs": [],
   "source": [
    "pictures = X_val[erroneous][to_show].copy()\n",
    "pictures_predictions = predictions.argmax(1)[erroneous][to_show]\n",
    "pictures_probs = predictions.max(1)[erroneous][to_show]\n",
    "pictures_true = Y_val[erroneous][to_show]"
   ]
  },
  {
   "cell_type": "code",
   "execution_count": null,
   "metadata": {
    "collapsed": true
   },
   "outputs": [],
   "source": [
    "mean = np.array([0.485, 0.456, 0.406], dtype='float32')\n",
    "std = np.array([0.229, 0.224, 0.225], dtype='float32')\n",
    "decode = np.load('../utils/decode.npy')[()]"
   ]
  },
  {
   "cell_type": "code",
   "execution_count": null,
   "metadata": {
    "collapsed": true
   },
   "outputs": [],
   "source": [
    "pictures = np.transpose(pictures, axes=(0, 2, 3, 1))\n",
    "ne.evaluate('pictures*std', out=pictures);\n",
    "ne.evaluate('pictures + mean', out=pictures);"
   ]
  },
  {
   "cell_type": "code",
   "execution_count": null,
   "metadata": {
    "scrolled": false
   },
   "outputs": [],
   "source": [
    "# show pictures, predicted classes and probabilities\n",
    "_, axes = plt.subplots(nrows=6, ncols=5, figsize=(14, 16))\n",
    "axes = axes.flatten()\n",
    "for i, pic in enumerate(pictures):\n",
    "    axes[i].set_axis_off();\n",
    "    axes[i].imshow(pic);\n",
    "    title = decode[pictures_predictions[i] + 1] + ' ' +\\\n",
    "        str(pictures_probs[i]) + '\\ntrue: ' + decode[pictures_true[i] + 1]\n",
    "    axes[i].set_title(title);\n",
    "plt.tight_layout()"
   ]
  },
  {
   "cell_type": "markdown",
   "metadata": {},
   "source": [
    "# Get logits"
   ]
  },
  {
   "cell_type": "code",
   "execution_count": null,
   "metadata": {
    "collapsed": true
   },
   "outputs": [],
   "source": [
    "train_logits = {}"
   ]
  },
  {
   "cell_type": "code",
   "execution_count": null,
   "metadata": {
    "collapsed": true
   },
   "outputs": [],
   "source": [
    "%%time\n",
    "for i, (model, state) in enumerate(all_models):\n",
    "    \n",
    "    model.load_state_dict(torch.load(state))\n",
    "    model = model.cuda()\n",
    "    train_logits[i] = []\n",
    "    model.eval()\n",
    "    \n",
    "    for x_batch, _ in tqdm(train_iterator):\n",
    "\n",
    "        x_batch = Variable(x_batch.cuda(), volatile=True)\n",
    "        logits = model(x_batch)\n",
    "        train_logits[i] += [logits.cpu().data.numpy()]\n",
    "        \n",
    "    model = model.cpu()"
   ]
  },
  {
   "cell_type": "code",
   "execution_count": null,
   "metadata": {
    "collapsed": true,
    "scrolled": true
   },
   "outputs": [],
   "source": [
    "train_logits = {\n",
    "    p: np.concatenate(train_logits[p], axis=0) \n",
    "    for p in train_logits\n",
    "}"
   ]
  },
  {
   "cell_type": "code",
   "execution_count": null,
   "metadata": {
    "collapsed": true
   },
   "outputs": [],
   "source": [
    "np.save('/home/ubuntu/data/train_logits.npy', train_logits)"
   ]
  },
  {
   "cell_type": "code",
   "execution_count": null,
   "metadata": {
    "collapsed": true
   },
   "outputs": [],
   "source": [
    "train_logits[0].shape"
   ]
  },
  {
   "cell_type": "code",
   "execution_count": null,
   "metadata": {
    "collapsed": true
   },
   "outputs": [],
   "source": []
  }
 ],
 "metadata": {
  "kernelspec": {
   "display_name": "Python 3",
   "language": "python",
   "name": "python3"
  },
  "language_info": {
   "codemirror_mode": {
    "name": "ipython",
    "version": 3
   },
   "file_extension": ".py",
   "mimetype": "text/x-python",
   "name": "python",
   "nbconvert_exporter": "python",
   "pygments_lexer": "ipython3",
   "version": "3.6.1"
  }
 },
 "nbformat": 4,
 "nbformat_minor": 2
}
