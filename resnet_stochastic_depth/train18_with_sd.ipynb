{
 "cells": [
  {
   "cell_type": "code",
   "execution_count": 1,
   "metadata": {
    "collapsed": true
   },
   "outputs": [],
   "source": [
    "%load_ext autoreload\n",
    "%autoreload 2"
   ]
  },
  {
   "cell_type": "code",
   "execution_count": 2,
   "metadata": {},
   "outputs": [
    {
     "data": {
      "text/plain": [
       "True"
      ]
     },
     "execution_count": 2,
     "metadata": {},
     "output_type": "execute_result"
    }
   ],
   "source": [
    "import numpy as np\n",
    "from math import ceil\n",
    "from sklearn.metrics import accuracy_score, log_loss\n",
    "import torch\n",
    "from torch.utils.data import DataLoader\n",
    "\n",
    "import matplotlib.pyplot as plt\n",
    "%matplotlib inline\n",
    "\n",
    "import sys\n",
    "sys.path.append('../training_utils/')\n",
    "from data_utils import get_folders, get_class_weights\n",
    "from train_utils import train, predict\n",
    "from diagnostic_tools import top_k_accuracy, per_class_accuracy,\\\n",
    "    count_params, entropy, model_calibration, show_errors, most_confused_classes,\\\n",
    "    most_inaccurate_k_classes\n",
    "    \n",
    "torch.cuda.is_available()"
   ]
  },
  {
   "cell_type": "code",
   "execution_count": 3,
   "metadata": {
    "collapsed": true
   },
   "outputs": [],
   "source": [
    "torch.backends.cudnn.benchmark = True"
   ]
  },
  {
   "cell_type": "markdown",
   "metadata": {},
   "source": [
    "# Create data iterators"
   ]
  },
  {
   "cell_type": "code",
   "execution_count": 4,
   "metadata": {
    "collapsed": true
   },
   "outputs": [],
   "source": [
    "batch_size = 32"
   ]
  },
  {
   "cell_type": "code",
   "execution_count": 5,
   "metadata": {},
   "outputs": [
    {
     "data": {
      "text/plain": [
       "16980"
      ]
     },
     "execution_count": 5,
     "metadata": {},
     "output_type": "execute_result"
    }
   ],
   "source": [
    "train_folder, val_folder = get_folders()\n",
    "\n",
    "train_iterator = DataLoader(\n",
    "    train_folder, batch_size=batch_size, num_workers=4,\n",
    "    shuffle=True, pin_memory=True\n",
    ")\n",
    "\n",
    "val_iterator = DataLoader(\n",
    "    val_folder, batch_size=64, num_workers=4,\n",
    "    shuffle=False, pin_memory=True\n",
    ")\n",
    "\n",
    "# number of training samples\n",
    "train_size = len(train_folder.imgs)\n",
    "train_size"
   ]
  },
  {
   "cell_type": "markdown",
   "metadata": {},
   "source": [
    "# Model"
   ]
  },
  {
   "cell_type": "code",
   "execution_count": 6,
   "metadata": {
    "collapsed": true
   },
   "outputs": [],
   "source": [
    "from get_resnet18_with_sd import get_model"
   ]
  },
  {
   "cell_type": "code",
   "execution_count": 7,
   "metadata": {
    "collapsed": true
   },
   "outputs": [],
   "source": [
    "# w[j]: 1/number_of_samples_in_class_j\n",
    "# decode: folder name to class name (in human readable format)\n",
    "w, decode = get_class_weights(val_folder.class_to_idx)"
   ]
  },
  {
   "cell_type": "code",
   "execution_count": 8,
   "metadata": {
    "collapsed": true,
    "scrolled": true
   },
   "outputs": [],
   "source": [
    "model, criterion, optimizer = get_model(class_weights=torch.FloatTensor(w/w.sum()))"
   ]
  },
  {
   "cell_type": "code",
   "execution_count": 9,
   "metadata": {},
   "outputs": [
    {
     "data": {
      "text/plain": [
       "11307840"
      ]
     },
     "execution_count": 9,
     "metadata": {},
     "output_type": "execute_result"
    }
   ],
   "source": [
    "# number of params in the model\n",
    "count_params(model)"
   ]
  },
  {
   "cell_type": "markdown",
   "metadata": {},
   "source": [
    "# Train"
   ]
  },
  {
   "cell_type": "code",
   "execution_count": 10,
   "metadata": {},
   "outputs": [
    {
     "data": {
      "text/plain": [
       "531"
      ]
     },
     "execution_count": 10,
     "metadata": {},
     "output_type": "execute_result"
    }
   ],
   "source": [
    "from torch.optim.lr_scheduler import ReduceLROnPlateau\n",
    "\n",
    "n_epochs = 40\n",
    "n_batches = ceil(train_size/batch_size)\n",
    "\n",
    "lr_scheduler = ReduceLROnPlateau(\n",
    "    optimizer, mode='max', factor=0.1, patience=4, \n",
    "    verbose=True, threshold=0.01, threshold_mode='abs'\n",
    ")\n",
    "\n",
    "n_batches"
   ]
  },
  {
   "cell_type": "code",
   "execution_count": 11,
   "metadata": {
    "scrolled": false
   },
   "outputs": [
    {
     "name": "stdout",
     "output_type": "stream",
     "text": [
      "1.00  4.589 4.205  0.183 0.296  0.354 0.517  94.944\n",
      "2.00  3.407 2.729  0.373 0.547  0.614 0.786  94.347\n",
      "3.00  3.021 2.382  0.452 0.608  0.689 0.837  94.065\n",
      "4.00  2.850 1.919  0.485 0.648  0.719 0.855  93.963\n",
      "5.00  2.835 2.368  0.480 0.623  0.712 0.835  93.980\n",
      "6.00  2.696 3.042  0.509 0.583  0.733 0.797  93.878\n",
      "7.00  2.564 2.586  0.537 0.585  0.761 0.825  94.029\n",
      "8.00  2.440 2.644  0.547 0.621  0.769 0.831  93.688\n",
      "9.00  2.334 1.940  0.568 0.649  0.784 0.856  94.058\n",
      "Epoch     8: reducing learning rate of group 0 to 1.0000e-03.\n",
      "Epoch     8: reducing learning rate of group 1 to 1.0000e-03.\n",
      "Epoch     8: reducing learning rate of group 2 to 1.0000e-04.\n",
      "Epoch     8: reducing learning rate of group 3 to 1.0000e-04.\n",
      "Epoch     8: reducing learning rate of group 4 to 1.0000e-04.\n",
      "10.00  1.968 2.220  0.648 0.698  0.838 0.882  93.892\n",
      "11.00  1.910 3.258  0.660 0.614  0.844 0.827  93.775\n",
      "12.00  2.040 1.527  0.652 0.741  0.840 0.911  93.696\n",
      "13.00  1.889 1.505  0.666 0.752  0.840 0.916  93.652\n",
      "14.00  1.912 1.569  0.666 0.754  0.842 0.917  93.746\n",
      "15.00  1.924 1.873  0.666 0.745  0.845 0.911  93.828\n",
      "16.00  1.943 1.761  0.659 0.738  0.834 0.910  93.661\n",
      "17.00  1.792 3.672  0.679 0.538  0.856 0.765  94.049\n",
      "18.00  1.850 3.097  0.675 0.644  0.847 0.844  93.742\n",
      "Epoch    17: reducing learning rate of group 0 to 1.0000e-04.\n",
      "Epoch    17: reducing learning rate of group 1 to 1.0000e-04.\n",
      "Epoch    17: reducing learning rate of group 2 to 1.0000e-05.\n",
      "Epoch    17: reducing learning rate of group 3 to 1.0000e-05.\n",
      "Epoch    17: reducing learning rate of group 4 to 1.0000e-05.\n",
      "19.00  1.857 2.305  0.671 0.713  0.846 0.892  93.557\n",
      "20.00  1.777 1.394  0.676 0.750  0.850 0.914  93.954\n",
      "21.00  1.645 2.043  0.699 0.715  0.862 0.899  94.087\n",
      "22.00  1.835 1.882  0.674 0.742  0.848 0.911  93.945\n",
      "23.00  1.862 1.515  0.680 0.751  0.852 0.915  93.931\n",
      "Epoch    22: reducing learning rate of group 0 to 1.0000e-05.\n",
      "Epoch    22: reducing learning rate of group 1 to 1.0000e-05.\n",
      "Epoch    22: reducing learning rate of group 2 to 1.0000e-06.\n",
      "Epoch    22: reducing learning rate of group 3 to 1.0000e-06.\n",
      "Epoch    22: reducing learning rate of group 4 to 1.0000e-06.\n",
      "24.00  1.792 3.663  0.679 0.552  0.850 0.774  93.948\n",
      "25.00  1.839 1.641  0.687 0.752  0.859 0.916  93.898\n",
      "26.00  1.852 3.036  0.676 0.645  0.847 0.842  93.682\n",
      "27.00  1.764 1.713  0.683 0.748  0.853 0.914  94.078\n",
      "28.00  1.898 3.455  0.672 0.572  0.846 0.795  93.792\n",
      "Epoch    27: reducing learning rate of group 0 to 1.0000e-06.\n",
      "Epoch    27: reducing learning rate of group 1 to 1.0000e-06.\n",
      "Epoch    27: reducing learning rate of group 2 to 1.0000e-07.\n",
      "Epoch    27: reducing learning rate of group 3 to 1.0000e-07.\n",
      "Epoch    27: reducing learning rate of group 4 to 1.0000e-07.\n",
      "29.00  1.852 1.860  0.682 0.740  0.855 0.910  93.744\n",
      "30.00  1.815 1.176  0.685 0.768  0.856 0.925  93.750\n",
      "31.00  1.805 1.291  0.693 0.767  0.865 0.924  93.854\n",
      "32.00  1.929 1.288  0.675 0.763  0.847 0.922  93.856\n",
      "33.00  1.615 2.569  0.700 0.684  0.868 0.878  93.917\n",
      "34.00  1.757 1.676  0.689 0.753  0.859 0.914  94.145\n",
      "35.00  1.855 2.411  0.685 0.707  0.855 0.886  93.888\n",
      "Epoch    34: reducing learning rate of group 0 to 1.0000e-07.\n",
      "Epoch    34: reducing learning rate of group 1 to 1.0000e-07.\n",
      "Epoch    34: reducing learning rate of group 2 to 1.0000e-08.\n",
      "Epoch    34: reducing learning rate of group 3 to 1.0000e-08.\n",
      "Epoch    34: reducing learning rate of group 4 to 1.0000e-08.\n",
      "36.00  1.795 1.685  0.686 0.741  0.851 0.911  93.963\n",
      "37.00  1.778 2.293  0.685 0.712  0.861 0.890  93.956\n",
      "38.00  1.853 2.507  0.680 0.684  0.852 0.873  93.766\n",
      "39.00  1.801 2.453  0.683 0.692  0.852 0.880  93.709\n",
      "40.00  1.876 2.407  0.678 0.697  0.851 0.887  94.012\n",
      "Epoch    39: reducing learning rate of group 0 to 1.0000e-08.\n",
      "Epoch    39: reducing learning rate of group 1 to 1.0000e-08.\n",
      "CPU times: user 14min 10s, sys: 3min 16s, total: 17min 26s\n",
      "Wall time: 1h 2min 36s\n"
     ]
    }
   ],
   "source": [
    "%%time\n",
    "all_losses, _ = train(\n",
    "    model, criterion, optimizer, \n",
    "    train_iterator, n_epochs, n_batches, \n",
    "    val_iterator, validation_step=531, n_validation_batches=80, \n",
    "    saving_step=None, lr_scheduler=lr_scheduler\n",
    ")"
   ]
  },
  {
   "cell_type": "markdown",
   "metadata": {},
   "source": [
    "# Loss/epoch plots"
   ]
  },
  {
   "cell_type": "code",
   "execution_count": 12,
   "metadata": {},
   "outputs": [
    {
     "data": {
      "image/png": "[encoded data removed]",
      "text/plain": [
       "<matplotlib.figure.Figure at 0x7f9d9052cb00>"
      ]
     },
     "metadata": {},
     "output_type": "display_data"
    }
   ],
   "source": [
    "epochs = [x[0] for x in all_losses]\n",
    "plt.plot(epochs, [x[1] for x in all_losses], label='train');\n",
    "plt.plot(epochs, [x[2] for x in all_losses], label='val');\n",
    "plt.legend();\n",
    "plt.xlabel('epoch');\n",
    "plt.ylabel('loss');"
   ]
  },
  {
   "cell_type": "code",
   "execution_count": 13,
   "metadata": {},
   "outputs": [
    {
     "data": {
      "image/png": "[encoded data removed]",
      "text/plain": [
       "<matplotlib.figure.Figure at 0x7f9d8fc64e48>"
      ]
     },
     "metadata": {},
     "output_type": "display_data"
    }
   ],
   "source": [
    "plt.plot(epochs, [x[3] for x in all_losses], label='train');\n",
    "plt.plot(epochs, [x[4] for x in all_losses], label='val');\n",
    "plt.legend();\n",
    "plt.xlabel('epoch');\n",
    "plt.ylabel('accuracy');"
   ]
  },
  {
   "cell_type": "code",
   "execution_count": 14,
   "metadata": {},
   "outputs": [
    {
     "data": {
      "image/png": "[encoded data removed]",
      "text/plain": [
       "<matplotlib.figure.Figure at 0x7f9d8f416b70>"
      ]
     },
     "metadata": {},
     "output_type": "display_data"
    }
   ],
   "source": [
    "plt.plot(epochs, [x[5] for x in all_losses], label='train');\n",
    "plt.plot(epochs, [x[6] for x in all_losses], label='val');\n",
    "plt.legend();\n",
    "plt.xlabel('epoch');\n",
    "plt.ylabel('top5_accuracy');"
   ]
  },
  {
   "cell_type": "markdown",
   "metadata": {},
   "source": [
    "# Error analysis"
   ]
  },
  {
   "cell_type": "markdown",
   "metadata": {},
   "source": [
    "### get human readable class names"
   ]
  },
  {
   "cell_type": "code",
   "execution_count": 15,
   "metadata": {
    "collapsed": true
   },
   "outputs": [],
   "source": [
    "# index to class name\n",
    "decode = {val_folder.class_to_idx[k]: decode[int(k)] for k in val_folder.class_to_idx}"
   ]
  },
  {
   "cell_type": "markdown",
   "metadata": {},
   "source": [
    "### get all predictions and all misclassified images "
   ]
  },
  {
   "cell_type": "code",
   "execution_count": 16,
   "metadata": {
    "collapsed": true
   },
   "outputs": [],
   "source": [
    "val_iterator_no_shuffle = DataLoader(\n",
    "    val_folder, batch_size=64, shuffle=False\n",
    ")"
   ]
  },
  {
   "cell_type": "code",
   "execution_count": 17,
   "metadata": {},
   "outputs": [
    {
     "name": "stderr",
     "output_type": "stream",
     "text": [
      "100%|██████████| 80/80 [00:19<00:00,  4.21it/s]\n"
     ]
    }
   ],
   "source": [
    "val_predictions, val_true_targets,\\\n",
    "    erroneous_samples, erroneous_targets,\\\n",
    "    erroneous_predictions = predict(model, val_iterator_no_shuffle, return_erroneous=True)\n",
    "# erroneous_samples: images that were misclassified\n",
    "# erroneous_targets: their true labels\n",
    "# erroneous_predictions: predictions for them"
   ]
  },
  {
   "cell_type": "markdown",
   "metadata": {},
   "source": [
    "### number of misclassified images (there are overall 5120 images in the val dataset)"
   ]
  },
  {
   "cell_type": "code",
   "execution_count": 18,
   "metadata": {},
   "outputs": [
    {
     "data": {
      "text/plain": [
       "1553"
      ]
     },
     "execution_count": 18,
     "metadata": {},
     "output_type": "execute_result"
    }
   ],
   "source": [
    "n_errors = len(erroneous_targets)\n",
    "n_errors"
   ]
  },
  {
   "cell_type": "markdown",
   "metadata": {},
   "source": [
    "### logloss and accuracies"
   ]
  },
  {
   "cell_type": "code",
   "execution_count": 19,
   "metadata": {},
   "outputs": [
    {
     "data": {
      "text/plain": [
       "2.3964005109257869"
      ]
     },
     "execution_count": 19,
     "metadata": {},
     "output_type": "execute_result"
    }
   ],
   "source": [
    "log_loss(val_true_targets, val_predictions)"
   ]
  },
  {
   "cell_type": "code",
   "execution_count": 20,
   "metadata": {},
   "outputs": [
    {
     "data": {
      "text/plain": [
       "0.69667968749999998"
      ]
     },
     "execution_count": 20,
     "metadata": {},
     "output_type": "execute_result"
    }
   ],
   "source": [
    "accuracy_score(val_true_targets, val_predictions.argmax(1))"
   ]
  },
  {
   "cell_type": "code",
   "execution_count": 21,
   "metadata": {},
   "outputs": [
    {
     "name": "stdout",
     "output_type": "stream",
     "text": [
      "[0.7919921875, 0.837890625, 0.86855468749999998, 0.88671875, 0.92714843749999998]\n"
     ]
    }
   ],
   "source": [
    "print(top_k_accuracy(val_true_targets, val_predictions, k=(2, 3, 4, 5, 10)))"
   ]
  },
  {
   "cell_type": "markdown",
   "metadata": {},
   "source": [
    "### entropy of predictions"
   ]
  },
  {
   "cell_type": "code",
   "execution_count": 22,
   "metadata": {
    "collapsed": true
   },
   "outputs": [],
   "source": [
    "hits = val_predictions.argmax(1) == val_true_targets"
   ]
  },
  {
   "cell_type": "code",
   "execution_count": 23,
   "metadata": {},
   "outputs": [
    {
     "data": {
      "image/png": "[encoded data removed]",
      "text/plain": [
       "<matplotlib.figure.Figure at 0x7f9d9210b2e8>"
      ]
     },
     "metadata": {},
     "output_type": "display_data"
    }
   ],
   "source": [
    "plt.hist(\n",
    "    entropy(val_predictions[hits]), bins=30, \n",
    "    normed=True, alpha=0.7, label='correct prediction'\n",
    ");\n",
    "plt.hist(\n",
    "    entropy(val_predictions[~hits]), bins=30, \n",
    "    normed=True, alpha=0.5, label='misclassification'\n",
    ");\n",
    "plt.legend();\n",
    "plt.xlabel('entropy of predictions');"
   ]
  },
  {
   "cell_type": "markdown",
   "metadata": {},
   "source": [
    "### confidence of predictions"
   ]
  },
  {
   "cell_type": "code",
   "execution_count": 24,
   "metadata": {},
   "outputs": [
    {
     "data": {
      "image/png": "[encoded data removed]",
      "text/plain": [
       "<matplotlib.figure.Figure at 0x7f9d8ea77828>"
      ]
     },
     "metadata": {},
     "output_type": "display_data"
    }
   ],
   "source": [
    "plt.hist(\n",
    "    val_predictions[hits].max(1), bins=30, \n",
    "    normed=True, alpha=0.7, label='correct prediction'\n",
    ");\n",
    "plt.hist(\n",
    "    val_predictions[~hits].max(1), bins=30, \n",
    "    normed=True, alpha=0.5, label='misclassification'\n",
    ");\n",
    "plt.legend();\n",
    "plt.xlabel('confidence of predictions');"
   ]
  },
  {
   "cell_type": "markdown",
   "metadata": {},
   "source": [
    "### difference between biggest and second biggest probability"
   ]
  },
  {
   "cell_type": "code",
   "execution_count": 25,
   "metadata": {},
   "outputs": [
    {
     "data": {
      "image/png": "[encoded data removed]",
      "text/plain": [
       "<matplotlib.figure.Figure at 0x7f9d8e88d198>"
      ]
     },
     "metadata": {},
     "output_type": "display_data"
    }
   ],
   "source": [
    "sorted_correct = np.sort(val_predictions[hits], 1)\n",
    "sorted_incorrect = np.sort(val_predictions[~hits], 1)\n",
    "\n",
    "plt.hist(\n",
    "    sorted_correct[:, -1] - sorted_correct[:, -2], bins=30, \n",
    "    normed=True, alpha=0.7, label='correct prediction'\n",
    ");\n",
    "plt.hist(\n",
    "    sorted_incorrect[:, -1] - sorted_incorrect[:, -2], bins=30, \n",
    "    normed=True, alpha=0.5, label='misclassification'\n",
    ");\n",
    "plt.legend();\n",
    "plt.xlabel('difference');"
   ]
  },
  {
   "cell_type": "markdown",
   "metadata": {},
   "source": [
    "### probabilistic calibration of the model"
   ]
  },
  {
   "cell_type": "code",
   "execution_count": 26,
   "metadata": {},
   "outputs": [
    {
     "data": {
      "image/png": "[encoded data removed]",
      "text/plain": [
       "<matplotlib.figure.Figure at 0x7f9d8eb0c898>"
      ]
     },
     "metadata": {},
     "output_type": "display_data"
    }
   ],
   "source": [
    "model_calibration(val_true_targets, val_predictions, n_bins=10)"
   ]
  },
  {
   "cell_type": "markdown",
   "metadata": {},
   "source": [
    "### per class accuracies"
   ]
  },
  {
   "cell_type": "code",
   "execution_count": 27,
   "metadata": {},
   "outputs": [
    {
     "data": {
      "image/png": "[encoded data removed]",
      "text/plain": [
       "<matplotlib.figure.Figure at 0x7f9d8e870400>"
      ]
     },
     "metadata": {},
     "output_type": "display_data"
    }
   ],
   "source": [
    "per_class_acc = per_class_accuracy(val_true_targets, val_predictions)\n",
    "plt.hist(per_class_acc);\n",
    "plt.xlabel('accuracy');"
   ]
  },
  {
   "cell_type": "code",
   "execution_count": 28,
   "metadata": {},
   "outputs": [
    {
     "name": "stdout",
     "output_type": "stream",
     "text": [
      "faces-easy 0.05\n",
      "knife 0.1\n",
      "playing-card 0.1\n",
      "mailbox 0.15\n",
      "drinking-straw 0.2\n",
      "bat 0.2\n",
      "coffin 0.25\n",
      "mussels 0.35\n",
      "canoe 0.35\n",
      "rifle 0.35\n",
      "tambourine 0.35\n",
      "boom-box 0.35\n",
      "stirrups 0.35\n",
      "sneaker 0.35\n",
      "spoon 0.35\n"
     ]
    }
   ],
   "source": [
    "most_inaccurate_k_classes(per_class_acc, 15, decode)"
   ]
  },
  {
   "cell_type": "markdown",
   "metadata": {},
   "source": [
    "### class accuracy vs. number of samples in the class"
   ]
  },
  {
   "cell_type": "code",
   "execution_count": 29,
   "metadata": {},
   "outputs": [
    {
     "data": {
      "image/png": "[encoded data removed]",
      "text/plain": [
       "<matplotlib.figure.Figure at 0x7f9d8e98e5c0>"
      ]
     },
     "metadata": {},
     "output_type": "display_data"
    }
   ],
   "source": [
    "plt.scatter((1.0/w), per_class_acc);\n",
    "plt.ylabel('class accuracy');\n",
    "plt.xlabel('number of available samples');"
   ]
  },
  {
   "cell_type": "markdown",
   "metadata": {},
   "source": [
    "### most confused pairs of classes"
   ]
  },
  {
   "cell_type": "code",
   "execution_count": 30,
   "metadata": {},
   "outputs": [
    {
     "data": {
      "text/plain": [
       "[('beer-mug', 'coffee-mug'),\n",
       " ('horse', 'unicorn'),\n",
       " ('ice-cream-cone', 'drinking-straw'),\n",
       " ('iris', 'cactus'),\n",
       " ('kayak', 'snowmobile'),\n",
       " ('kayak', 'speed-boat'),\n",
       " ('kayak', 'canoe'),\n",
       " ('killer-whale', 'dolphin'),\n",
       " ('laptop', 'computer-keyboard'),\n",
       " ('mountain-bike', 'touring-bike'),\n",
       " ('paper-shredder', 'breadmaker'),\n",
       " ('people', 'faces-easy'),\n",
       " ('boom-box', 'vcr'),\n",
       " ('screwdriver', 'syringe'),\n",
       " ('screwdriver', 'tuning-fork'),\n",
       " ('skyscraper', 'smokestack'),\n",
       " ('sneaker', 'tennis-shoes'),\n",
       " ('swan', 'duck'),\n",
       " ('swan', 'goose'),\n",
       " ('breadmaker', 'washing-machine'),\n",
       " ('tambourine', 'frisbee'),\n",
       " ('touring-bike', 'tricycle'),\n",
       " ('tweezer', 'chopsticks'),\n",
       " ('yarmulke', 'frisbee'),\n",
       " ('yo-yo', 'frisbee'),\n",
       " ('cd', 'frisbee'),\n",
       " ('chimp', 'gorilla'),\n",
       " ('comet', 'galaxy'),\n",
       " ('duck', 'goose'),\n",
       " ('elk', 'goat')]"
      ]
     },
     "execution_count": 30,
     "metadata": {},
     "output_type": "execute_result"
    }
   ],
   "source": [
    "confused_pairs = most_confused_classes(\n",
    "    val_true_targets, val_predictions, decode, min_n_confusions=4\n",
    ")\n",
    "confused_pairs"
   ]
  },
  {
   "cell_type": "markdown",
   "metadata": {
    "collapsed": true
   },
   "source": [
    "### show some low entropy errors"
   ]
  },
  {
   "cell_type": "code",
   "execution_count": 31,
   "metadata": {},
   "outputs": [
    {
     "data": {
      "text/plain": [
       "7.0525567690469098"
      ]
     },
     "execution_count": 31,
     "metadata": {},
     "output_type": "execute_result"
    }
   ],
   "source": [
    "erroneous_entropy = entropy(erroneous_predictions)\n",
    "mean_entropy = erroneous_entropy.mean()\n",
    "low_entropy = mean_entropy < erroneous_entropy\n",
    "mean_entropy"
   ]
  },
  {
   "cell_type": "code",
   "execution_count": null,
   "metadata": {
    "collapsed": true
   },
   "outputs": [],
   "source": [
    "show_errors(\n",
    "    erroneous_samples[low_entropy], \n",
    "    erroneous_predictions[low_entropy], \n",
    "    erroneous_targets[low_entropy], \n",
    "    decode\n",
    ")"
   ]
  },
  {
   "cell_type": "markdown",
   "metadata": {
    "collapsed": true
   },
   "source": [
    "### show some high entropy errors"
   ]
  },
  {
   "cell_type": "code",
   "execution_count": null,
   "metadata": {
    "collapsed": true
   },
   "outputs": [],
   "source": [
    "show_errors(\n",
    "    erroneous_samples[~low_entropy], \n",
    "    erroneous_predictions[~low_entropy], \n",
    "    erroneous_targets[~low_entropy], \n",
    "    decode\n",
    ")"
   ]
  },
  {
   "cell_type": "markdown",
   "metadata": {},
   "source": [
    "# Save"
   ]
  },
  {
   "cell_type": "code",
   "execution_count": 34,
   "metadata": {
    "collapsed": true
   },
   "outputs": [],
   "source": [
    "model.cpu();\n",
    "torch.save(model.state_dict(), 'resnet18_with_sd.pytorch_state')"
   ]
  }
 ],
 "metadata": {
  "kernelspec": {
   "display_name": "Python 3",
   "language": "python",
   "name": "python3"
  },
  "language_info": {
   "codemirror_mode": {
    "name": "ipython",
    "version": 3
   },
   "file_extension": ".py",
   "mimetype": "text/x-python",
   "name": "python",
   "nbconvert_exporter": "python",
   "pygments_lexer": "ipython3",
   "version": "3.6.2"
  }
 },
 "nbformat": 4,
 "nbformat_minor": 2
}
